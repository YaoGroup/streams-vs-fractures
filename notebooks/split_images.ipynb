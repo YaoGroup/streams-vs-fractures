{
 "cells": [
  {
   "cell_type": "code",
   "execution_count": 2,
   "id": "2c91704b-70cc-4f6e-8d3f-41f1e6ef5e1b",
   "metadata": {},
   "outputs": [],
   "source": [
    "import rasterio\n",
    "from rasterio.windows import Window\n",
    "from PIL import Image\n",
    "import numpy as np\n",
    "import os\n",
    "import fitz\n",
    "from PIL import Image, ImageDraw, ImageFont\n",
    "import PIL"
   ]
  },
  {
   "cell_type": "code",
   "execution_count": 12,
   "id": "122d4606-173f-4132-b08a-fb605ece69ad",
   "metadata": {},
   "outputs": [],
   "source": [
    "def save_tile(src, window, filename):\n",
    "    profile = src.profile\n",
    "    profile.update({\n",
    "        'height': window.height,\n",
    "        'width': window.width,\n",
    "        'transform': rasterio.windows.transform(window, src.transform)\n",
    "    })\n",
    "    \n",
    "    with rasterio.open(filename, 'w', **profile) as dst:\n",
    "        dst.write(src.read(window=window))"
   ]
  },
  {
   "cell_type": "code",
   "execution_count": 9,
   "id": "ad6c6440-05f0-451b-a714-45e0e02af89f",
   "metadata": {},
   "outputs": [
    {
     "name": "stdout",
     "output_type": "stream",
     "text": [
      "42033 44595\n"
     ]
    }
   ],
   "source": [
    "with rasterio.open('/data/data/orig_tif_files/WV01_20120803164856.tif') as src:\n",
    "    print(src.width, src.height)"
   ]
  },
  {
   "cell_type": "code",
   "execution_count": 13,
   "id": "6db018e4-06ce-4859-90f1-c13c2c2fe260",
   "metadata": {},
   "outputs": [
    {
     "ename": "KeyboardInterrupt",
     "evalue": "",
     "output_type": "error",
     "traceback": [
      "\u001b[0;31m---------------------------------------------------------------------------\u001b[0m",
      "\u001b[0;31mKeyboardInterrupt\u001b[0m                         Traceback (most recent call last)",
      "Cell \u001b[0;32mIn[13], line 25\u001b[0m\n\u001b[1;32m     22\u001b[0m output_filename \u001b[38;5;241m=\u001b[39m \u001b[38;5;124mf\u001b[39m\u001b[38;5;124m'\u001b[39m\u001b[38;5;124m/data/data/v4_\u001b[39m\u001b[38;5;132;01m{\u001b[39;00mi\u001b[38;5;132;01m}\u001b[39;00m\u001b[38;5;124m_\u001b[39m\u001b[38;5;132;01m{\u001b[39;00mj\u001b[38;5;132;01m}\u001b[39;00m\u001b[38;5;124m.tif\u001b[39m\u001b[38;5;124m'\u001b[39m\n\u001b[1;32m     24\u001b[0m \u001b[38;5;66;03m# Save the tile\u001b[39;00m\n\u001b[0;32m---> 25\u001b[0m \u001b[43msave_tile\u001b[49m\u001b[43m(\u001b[49m\u001b[43msrc\u001b[49m\u001b[43m,\u001b[49m\u001b[43m \u001b[49m\u001b[43mwindow\u001b[49m\u001b[43m,\u001b[49m\u001b[43m \u001b[49m\u001b[43moutput_filename\u001b[49m\u001b[43m)\u001b[49m\n\u001b[1;32m     27\u001b[0m \u001b[38;5;28;01mwith\u001b[39;00m Image\u001b[38;5;241m.\u001b[39mopen(output_filename) \u001b[38;5;28;01mas\u001b[39;00m img:\n\u001b[1;32m     28\u001b[0m     img\u001b[38;5;241m.\u001b[39msave(\u001b[38;5;124mf\u001b[39m\u001b[38;5;124m'\u001b[39m\u001b[38;5;124m/data/data/v4_split_image/v4_\u001b[39m\u001b[38;5;132;01m{\u001b[39;00mi\u001b[38;5;132;01m}\u001b[39;00m\u001b[38;5;124m_\u001b[39m\u001b[38;5;132;01m{\u001b[39;00mj\u001b[38;5;132;01m}\u001b[39;00m\u001b[38;5;124m.png\u001b[39m\u001b[38;5;124m'\u001b[39m, \u001b[38;5;124m'\u001b[39m\u001b[38;5;124mPNG\u001b[39m\u001b[38;5;124m'\u001b[39m)\n",
      "Cell \u001b[0;32mIn[12], line 9\u001b[0m, in \u001b[0;36msave_tile\u001b[0;34m(src, window, filename)\u001b[0m\n\u001b[1;32m      2\u001b[0m profile \u001b[38;5;241m=\u001b[39m src\u001b[38;5;241m.\u001b[39mprofile\n\u001b[1;32m      3\u001b[0m profile\u001b[38;5;241m.\u001b[39mupdate({\n\u001b[1;32m      4\u001b[0m     \u001b[38;5;124m'\u001b[39m\u001b[38;5;124mheight\u001b[39m\u001b[38;5;124m'\u001b[39m: window\u001b[38;5;241m.\u001b[39mheight,\n\u001b[1;32m      5\u001b[0m     \u001b[38;5;124m'\u001b[39m\u001b[38;5;124mwidth\u001b[39m\u001b[38;5;124m'\u001b[39m: window\u001b[38;5;241m.\u001b[39mwidth,\n\u001b[1;32m      6\u001b[0m     \u001b[38;5;124m'\u001b[39m\u001b[38;5;124mtransform\u001b[39m\u001b[38;5;124m'\u001b[39m: rasterio\u001b[38;5;241m.\u001b[39mwindows\u001b[38;5;241m.\u001b[39mtransform(window, src\u001b[38;5;241m.\u001b[39mtransform)\n\u001b[1;32m      7\u001b[0m })\n\u001b[0;32m----> 9\u001b[0m \u001b[38;5;28;01mwith\u001b[39;00m rasterio\u001b[38;5;241m.\u001b[39mopen(filename, \u001b[38;5;124m'\u001b[39m\u001b[38;5;124mw\u001b[39m\u001b[38;5;124m'\u001b[39m, \u001b[38;5;241m*\u001b[39m\u001b[38;5;241m*\u001b[39mprofile) \u001b[38;5;28;01mas\u001b[39;00m dst:\n\u001b[1;32m     10\u001b[0m     dst\u001b[38;5;241m.\u001b[39mwrite(src\u001b[38;5;241m.\u001b[39mread(window\u001b[38;5;241m=\u001b[39mwindow))\n",
      "File \u001b[0;32mrasterio/_base.pyx:450\u001b[0m, in \u001b[0;36mrasterio._base.DatasetBase.__exit__\u001b[0;34m()\u001b[0m\n",
      "File \u001b[0;32mrasterio/_base.pyx:441\u001b[0m, in \u001b[0;36mrasterio._base.DatasetBase.close\u001b[0;34m()\u001b[0m\n",
      "File \u001b[0;32m/opt/conda/lib/python3.10/contextlib.py:582\u001b[0m, in \u001b[0;36mExitStack.close\u001b[0;34m(self)\u001b[0m\n\u001b[1;32m    579\u001b[0m             \u001b[38;5;28;01mraise\u001b[39;00m\n\u001b[1;32m    580\u001b[0m     \u001b[38;5;28;01mreturn\u001b[39;00m received_exc \u001b[38;5;129;01mand\u001b[39;00m suppressed_exc\n\u001b[0;32m--> 582\u001b[0m \u001b[38;5;28;01mdef\u001b[39;00m \u001b[38;5;21mclose\u001b[39m(\u001b[38;5;28mself\u001b[39m):\n\u001b[1;32m    583\u001b[0m \u001b[38;5;250m    \u001b[39m\u001b[38;5;124;03m\"\"\"Immediately unwind the context stack.\"\"\"\u001b[39;00m\n\u001b[1;32m    584\u001b[0m     \u001b[38;5;28mself\u001b[39m\u001b[38;5;241m.\u001b[39m\u001b[38;5;21m__exit__\u001b[39m(\u001b[38;5;28;01mNone\u001b[39;00m, \u001b[38;5;28;01mNone\u001b[39;00m, \u001b[38;5;28;01mNone\u001b[39;00m)\n",
      "\u001b[0;31mKeyboardInterrupt\u001b[0m: "
     ]
    }
   ],
   "source": [
    "# Open the large TIFF file\n",
    "with rasterio.open('WV01_20120802153816.tif') as src:\n",
    "    #print(src.width, src.height)\n",
    "    # Calculate the number of tiles along width and height\n",
    "    ncols = 20\n",
    "    nrows = 20\n",
    "\n",
    "    for i in range(nrows):\n",
    "        for j in range(ncols):\n",
    "            # Define the window for this tile\n",
    "            width = 1986\n",
    "            height = 1702\n",
    "            col_off = i * width\n",
    "            row_off = j* height\n",
    "            window = Window(col_off, row_off, width, height)\n",
    "            #print(col_off, col_off + width)\n",
    "            #print(row_off, row_off + height)\n",
    "            \n",
    "            \n",
    "            \n",
    "            # Define the output filename for this tile\n",
    "            output_filename = f'/data/data/v4_{i}_{j}.tif'\n",
    "            \n",
    "            # Save the tile\n",
    "            save_tile(src, window, output_filename)\n",
    "            \n",
    "            with Image.open(output_filename) as img:\n",
    "                img.save(f'/data/data/v4_split_image/v4_{i}_{j}.png', 'PNG')\n",
    "            os.remove(output_filename)"
   ]
  },
  {
   "cell_type": "code",
   "execution_count": 14,
   "id": "26a26895-c2cc-4ccd-b4bc-26022f3642bb",
   "metadata": {},
   "outputs": [],
   "source": [
    "PIL.Image.MAX_IMAGE_PIXELS = None\n",
    "\n",
    "fracture_image = Image.open(\"data/data/maps_from_models/fracture_image_WV01_20120803164856.png\")\n",
    "stream_image = Image.open(\"data/data/maps_from_models/stream_image_WV01_20120803164856.png\")\n",
    "orig_image = Image.open(\"data/data/orig_png_files/original_WV01_20120803164856.png\")"
   ]
  },
  {
   "cell_type": "code",
   "execution_count": 15,
   "id": "ed1d1e97-feca-4967-8409-98b332025521",
   "metadata": {},
   "outputs": [],
   "source": [
    "all_images = []\n",
    "\n",
    "for i in range(21):\n",
    "    for j in range(22):\n",
    "        left = 2048 * i\n",
    "        right = left + 2048\n",
    "        upper = 2048 * j\n",
    "        lower = upper + 2048\n",
    "        img_tile = orig_image.crop((left, upper, right, lower))\n",
    "        draw = ImageDraw.Draw(img_tile)\n",
    "        font = ImageFont.truetype(\"Roboto-Thin.ttf\", 50)  # You can specify a font file path or use a system default font\n",
    "        \n",
    "        text_x = (10)\n",
    "        text_y = (10)\n",
    "\n",
    "        draw.text((text_x, text_y), f'image_{i}_{j}.png', fill='red', font=font)\n",
    "        all_images.append(img_tile)\n",
    "        fracture_img_tile = fracture_image.crop((left, upper, right, lower))\n",
    "        stream_img_tile = stream_image.crop((left, upper, right, lower))\n",
    "        all_images.append(fracture_img_tile)\n",
    "        all_images.append(stream_img_tile)\n",
    "        \n",
    "        \n",
    "        \n",
    "        \n",
    "        \n",
    "pdf_path = \"/data/data/WV01_20120803164856_all.pdf\"\n",
    "    \n",
    "all_images[0].save(\n",
    "    pdf_path, \"PDF\" ,resolution=100.0, save_all=True, append_images=all_images[1:]\n",
    ")"
   ]
  },
  {
   "cell_type": "code",
   "execution_count": 3,
   "id": "c8d6f1d4-6b72-451d-b616-3a53b4c36311",
   "metadata": {},
   "outputs": [],
   "source": [
    "PIL.Image.MAX_IMAGE_PIXELS = None\n",
    "\n",
    "fracture_image = Image.open(\"data/data/maps_from_models/fracture_image_WV01_20120802153817_0.1.png\")\n",
    "stream_image = Image.open(\"data/data/maps_from_models/stream_image_WV01_20120802153817_0.25.png\")\n",
    "orig_image = Image.open(\"data/data/orig_png_files/original_WV01_20120802153817.png\")"
   ]
  },
  {
   "cell_type": "code",
   "execution_count": 6,
   "id": "2e375dc5-6885-4285-969f-830aeb22ce7e",
   "metadata": {},
   "outputs": [],
   "source": [
    "need_to_add = [\"5_13\",\"3_11\",\"1_9\",\"0_7\",\"0_9\",\"0_10\",\"0_12\",\"1_5\",\"1_7\",\"1_12\",\"1_13\",\"2_5\",\"2_6\",\"2_7\",\"2_8\",\"2_12\",\"2_13\",\"3_5\",\"3_6\",\"3_8\",\"3_9\",\"3_12\",\"3_13\",\"4_3\",\"4_5\",\"4_6\",\"4_8\",\"4_9\",\"4_10\",\"4_11\",\"4_12\",\"4_13\",\"5_5\",\"5_6\",\"5_8\",\"5_9\",\"5_10\",\"5_11\",\"5_12\",\"6_4\",\"6_5\",\"6_8\",\"6_9\",\"6_10\",\"6_11\",\"6_12\",\"7_6\",\"7_9\",\"7_10\",\"7_11\",\"7_12\",\"7_13\",\"8_6\",\"8_9\",\"8_10\",\"8_11\",\"8_12\",\"9_10\",\"9_11\",\"10_10\",\"10_12\",\"10_13\",\"10_14\",\"11_13\",\"11_14\",\"12_14\",\"13_11\",\"13_14\",\"14_14\",\"17_2\",\"17_3\",\"17_4\",\"17_7\",\"18_3\",\"18_5\"]"
   ]
  },
  {
   "cell_type": "code",
   "execution_count": 1,
   "id": "a6ee8d8a-8dd8-4931-bc96-8ff3cf7aecbc",
   "metadata": {},
   "outputs": [],
   "source": [
    "streams = [\"4_3\", \"13_11\", \"17_2\", \"17_3\", \"17_4\", \"18_3\", \"18_5\"]"
   ]
  },
  {
   "cell_type": "code",
   "execution_count": 8,
   "id": "a4311c5a-10f0-42fa-b7d8-a5a3e4f24904",
   "metadata": {},
   "outputs": [],
   "source": [
    "for coord in streams:\n",
    "    arr = coord.split('_')\n",
    "    i = arr[0]\n",
    "    j = arr[1]\n",
    "    left = 2048 * int(i)\n",
    "    right = left + 2048\n",
    "    upper = 2048 * int(j)\n",
    "    lower = upper + 2048\n",
    "    img_tile = orig_image.crop((left, upper, right, lower))\n",
    "    fracture_img_tile = fracture_image.crop((left, upper, right, lower))\n",
    "    stream_img_tile = stream_image.crop((left, upper, right, lower))\n",
    "    \n",
    "    stream_img_tile.save(f'/data/data/extra_training_data/stream_edge_detection/streams_{i}_{j}.png', 'PNG')"
   ]
  },
  {
   "cell_type": "code",
   "execution_count": null,
   "id": "f9737140-2385-4301-884e-52b6ee7b7c0e",
   "metadata": {},
   "outputs": [],
   "source": []
  }
 ],
 "metadata": {
  "environment": {
   "kernel": "python3",
   "name": "pytorch-gpu.2-0.m112",
   "type": "gcloud",
   "uri": "gcr.io/deeplearning-platform-release/pytorch-gpu.2-0:m112"
  },
  "kernelspec": {
   "display_name": "Python 3",
   "language": "python",
   "name": "python3"
  },
  "language_info": {
   "codemirror_mode": {
    "name": "ipython",
    "version": 3
   },
   "file_extension": ".py",
   "mimetype": "text/x-python",
   "name": "python",
   "nbconvert_exporter": "python",
   "pygments_lexer": "ipython3",
   "version": "3.10.12"
  }
 },
 "nbformat": 4,
 "nbformat_minor": 5
}
