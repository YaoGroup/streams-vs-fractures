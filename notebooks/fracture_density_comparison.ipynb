{
 "cells": [
  {
   "cell_type": "code",
   "execution_count": 1,
   "id": "bdac097f-bd33-4adb-ae13-b4d070cadd91",
   "metadata": {},
   "outputs": [],
   "source": [
    "import h5py\n",
    "import numpy as np\n",
    "from PIL import Image\n",
    "import PIL\n",
    "import matplotlib.pyplot as plt\n",
    "from sklearn.metrics import accuracy_score, precision_score, f1_score, recall_score\n",
    "\n",
    "import torch\n",
    "import torch.nn as nn\n",
    "import torch.optim as optim\n",
    "import torch.nn.functional as F\n",
    "from torch.utils.data import DataLoader\n",
    "from torch.utils.data import Dataset\n",
    "from torch.utils.data import Sampler\n",
    "from torch.utils.data.sampler import WeightedRandomSampler\n",
    "import torchvision.datasets as datasetsgh\n",
    "import torchvision.transforms as transforms\n",
    "from torchsummary import summary\n",
    "\n",
    "import rasterio\n",
    "from rasterio.transform import Affine\n",
    "\n",
    "import time\n",
    "import copy\n",
    "import sys\n",
    "import random\n",
    "import gc"
   ]
  },
  {
   "cell_type": "code",
   "execution_count": 42,
   "id": "7c9d8486-8750-4636-a004-1f62f212cba9",
   "metadata": {},
   "outputs": [],
   "source": [
    "PIL.Image.MAX_IMAGE_PIXELS = None\n",
    "\n",
    "img_code = \"QB02_20120729152314\"\n",
    "riley_path = f'data/data/riley_prediction/{img_code}_binary_10.tif'\n",
    "model_path = f'data/data/maps_from_models/fracture_image_{img_code}.tif'"
   ]
  },
  {
   "cell_type": "code",
   "execution_count": 43,
   "id": "23c6fec2-ea64-4f49-b2b6-20cfcba682cc",
   "metadata": {},
   "outputs": [
    {
     "name": "stdout",
     "output_type": "stream",
     "text": [
      "33024 33536\n"
     ]
    }
   ],
   "source": [
    "tile_side = 256\n",
    "image_model = Image.open(model_path)\n",
    "image_riley = Image.open(riley_path)\n",
    "\n",
    "img_width, img_height = image_model.size\n",
    "print(img_width, img_height)\n",
    "\n",
    "cols = img_width // tile_side\n",
    "rows = img_height // tile_side\n",
    "\n",
    "fracture_density_model = Image.new('L', (img_width, img_height))\n",
    "fracture_density_riley = Image.new('L', (img_width, img_height))\n",
    "\n",
    "idx = 0\n",
    "for i in range(rows):\n",
    "    for j in range(cols):\n",
    "        left = j * tile_side\n",
    "        upper = i * tile_side\n",
    "        right = left + tile_side\n",
    "        lower = upper + tile_side\n",
    "        \n",
    "        model_tile = np.array(image_model.crop((left, upper, right, lower))) / 255\n",
    "        riley_tile = np.array(image_riley.crop((left, upper, right, lower))) * 1\n",
    "        \n",
    "        #print(set(riley_tile.flatten().tolist()))\n",
    "        FD_model = round(np.sum(model_tile) * 550 / (256 * 256))\n",
    "        FD_riley = round(np.sum(riley_tile) * 550 / (256 * 256))\n",
    "        \n",
    "        model_tile_density = Image.fromarray(np.full((256, 256), FD_model, dtype=np.uint8))\n",
    "        riley_tile_density = Image.fromarray(np.full((256, 256), FD_riley, dtype=np.uint8))\n",
    "        \n",
    "        x = j * 256\n",
    "        y = i * 256\n",
    "        \n",
    "        fracture_density_model.paste(model_tile_density, (x, y))\n",
    "        fracture_density_riley.paste(riley_tile_density, (x, y))\n",
    "                                             "
   ]
  },
  {
   "cell_type": "code",
   "execution_count": 44,
   "id": "04aba592-4ace-474a-903a-74e50009b2ac",
   "metadata": {},
   "outputs": [],
   "source": [
    "def create_tiff_from_image(image, source_tiff_path, output_tiff_path):\n",
    "    # Open the source TIFF file to get metadata\n",
    "    with rasterio.open(source_tiff_path) as src:\n",
    "        metadata = src.meta.copy()\n",
    "        transform = src.transform\n",
    "        crs = src.crs\n",
    "    \n",
    "    array = np.array(image).astype(np.uint8)\n",
    "    print(array.shape)\n",
    "\n",
    "    metadata.update({\n",
    "        'driver': 'GTiff',\n",
    "        'height': array.shape[0],\n",
    "        'width': array.shape[1],\n",
    "        'count': 1,\n",
    "        'dtype': array.dtype,\n",
    "        'transform': transform,\n",
    "        'crs': crs\n",
    "    })\n",
    "\n",
    "    compression_type = 'lzw'\n",
    "\n",
    "    # Add the compression option to the metadata\n",
    "    metadata.update(compress=compression_type)\n",
    "    \n",
    "    # Write the new TIFF file\n",
    "    with rasterio.open(output_tiff_path, 'w', **metadata) as dst:\n",
    "        dst.write(array, 1)  # Write the image data to band 1"
   ]
  },
  {
   "cell_type": "code",
   "execution_count": 45,
   "id": "bf3fa177-6ca9-4d99-a88a-12fe5d6dfde0",
   "metadata": {},
   "outputs": [
    {
     "name": "stdout",
     "output_type": "stream",
     "text": [
      "(33536, 33024)\n",
      "(33536, 33024)\n"
     ]
    }
   ],
   "source": [
    "PIL.Image.MAX_IMAGE_PIXELS = None\n",
    "\n",
    "source_tiff_path = f\"data/data/orig_tif_files/{img_code}.tif\"\n",
    "output_tiff_path = f\"data/data/fracture_density_maps/model_{img_code}.tif\"\n",
    "\n",
    "create_tiff_from_image(fracture_density_model, source_tiff_path, output_tiff_path)\n",
    "\n",
    "output_tiff_path = f\"data/data/fracture_density_maps/riley_{img_code}.tif\"\n",
    "\n",
    "create_tiff_from_image(fracture_density_riley, source_tiff_path, output_tiff_path)"
   ]
  },
  {
   "cell_type": "code",
   "execution_count": null,
   "id": "d586599f-1134-4782-a728-603d11afd697",
   "metadata": {},
   "outputs": [],
   "source": []
  },
  {
   "cell_type": "code",
   "execution_count": null,
   "id": "a2b7084f-3001-4f87-aa85-6293104dda63",
   "metadata": {},
   "outputs": [],
   "source": []
  }
 ],
 "metadata": {
  "environment": {
   "kernel": "python3",
   "name": "pytorch-gpu.2-0.m112",
   "type": "gcloud",
   "uri": "gcr.io/deeplearning-platform-release/pytorch-gpu.2-0:m112"
  },
  "kernelspec": {
   "display_name": "Python 3",
   "language": "python",
   "name": "python3"
  },
  "language_info": {
   "codemirror_mode": {
    "name": "ipython",
    "version": 3
   },
   "file_extension": ".py",
   "mimetype": "text/x-python",
   "name": "python",
   "nbconvert_exporter": "python",
   "pygments_lexer": "ipython3",
   "version": "3.10.12"
  }
 },
 "nbformat": 4,
 "nbformat_minor": 5
}
